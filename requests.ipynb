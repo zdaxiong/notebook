{
 "cells": [
  {
   "cell_type": "markdown",
   "metadata": {},
   "source": [
    "# requests库"
   ]
  },
  {
   "cell_type": "markdown",
   "metadata": {},
   "source": [
    "## requests对象 与reponse对象"
   ]
  },
  {
   "cell_type": "code",
   "execution_count": 12,
   "metadata": {},
   "outputs": [
    {
     "name": "stdout",
     "output_type": "stream",
     "text": [
      "错误\n"
     ]
    }
   ],
   "source": [
    "import requests\n",
    "\n",
    "def getHTMLText(url):\n",
    "    try:\n",
    "        r = requsts.get(url,timeout=30)\n",
    "        r.rasie_for_status()\n",
    "        r.encoding = r.apparent_encoding\n",
    "        return r.text\n",
    "    except:\n",
    "        return '错误'\n",
    "if __name__ == '__main__':\n",
    "    url = 'https://www.baidu.com/'\n",
    "    print(getHTMLText(url))    "
   ]
  },
  {
   "cell_type": "markdown",
   "metadata": {},
   "source": [
    "上面的代码作用为获取百度首页的html文件。\n",
    "    r = requsts.get(url,timeout=30)\n",
    "   这个代码实现对html页面的请求，r问服务器响应后产生的一个response对象，而请求使用的requests对象的get方法。"
   ]
  },
  {
   "cell_type": "markdown",
   "metadata": {},
   "source": [
    "## requests的常用方法\n",
    "|方法|解释|参数|\n",
    "|---|---|--|\n",
    "|requests.request(method,url,\\*\\*kwargs)|构造一个rquests对象，这个对象支持下面的方法|method：put/get/.. url:url地址，\\*\\*kwargs;控制访问参数，一共13个|\n",
    "|requests.get(url,params=None,\\*\\*kwargs)|获取网页信息的主要方法，对应http请求的get，获取url资源,|\n",
    "|requests.head(url,\\*\\*kwargs)|获取网页的请求头信息获取url资源的头部信息|\n",
    "|requests.post(url,data=None，json=None，\\*\\*kwargs)|向网站发送一个post请求，在url资源后附加新的数据|\n",
    "|requests.put(url,data=None，\\*\\*kwargs)|向网站发送一个put请求，覆盖原url位置的资源|\n",
    "|requests.delete(url,\\*\\*kwargs)|向网站发送一个delete请求，url资源的删除|\n",
    "|requests.patch(url,data=None，\\*\\*kwargs)|向网站发送一个patch请求进行url资源局部修改|\n",
    "|--|--|这些方法都与http发送的请求相对应，参与的放在了函数参数内，其余可选控制参数与request方法基本相同|"
   ]
  },
  {
   "cell_type": "markdown",
   "metadata": {},
   "source": [
    "#### kwags 访问控制参数\n",
    "|访问控制参数|解释|\n",
    "|--|--|\n",
    "|params|字典或字节序列，作为参数增加到url当中|\n",
    "|data|字典，字节序列或文件，向服务器提交(post)资源的时候使用|\n",
    "|json|json文件，作为内容部分提供使用|\n",
    "|headers|头字段的信息，可以通过字典构造header信息，如模拟浏览器访问|\n",
    "|cookies|cookerJAr或字段，访问服务器时的cookies信息|\n",
    "|auth|元组，http认证时使用|\n",
    "|files|字典类型，可以向某个url提交一个文件|\n",
    "|timeout|连接超时时间|\n",
    "|proxies|字典，访问代理服务器|\n",
    "|allow_redirects|true/false,默认是true，是否允许对url进行重定向|\n",
    "|stream|true/false,默认是true，是否对内容立即下载|\n",
    "|verify|true/false,默认是true,是否开启ssl认证|\n",
    "|cert|本地的ssl证书路径|\n",
    "\n",
    "\n"
   ]
  },
  {
   "cell_type": "markdown",
   "metadata": {},
   "source": [
    "### request.head()"
   ]
  },
  {
   "cell_type": "code",
   "execution_count": 13,
   "metadata": {},
   "outputs": [
    {
     "name": "stdout",
     "output_type": "stream",
     "text": [
      "{'Cache-Control': 'private, no-cache, no-store, proxy-revalidate, no-transform', 'Connection': 'keep-alive', 'Content-Encoding': 'gzip', 'Content-Type': 'text/html', 'Date': 'Tue, 31 Mar 2020 13:32:48 GMT', 'Last-Modified': 'Mon, 13 Jun 2016 02:50:25 GMT', 'Pragma': 'no-cache', 'Server': 'bfe/1.0.8.18'}\n"
     ]
    }
   ],
   "source": [
    "import requests\n",
    "r = requests.head('https://www.baidu.com/')\n",
    "#respones的headers显示header的信息\n",
    "print(r.headers)"
   ]
  },
  {
   "cell_type": "markdown",
   "metadata": {},
   "source": [
    "### requests.post()"
   ]
  },
  {
   "cell_type": "code",
   "execution_count": 16,
   "metadata": {},
   "outputs": [
    {
     "name": "stdout",
     "output_type": "stream",
     "text": [
      "<!DOCTYPE HTML PUBLIC \"-//W3C//DTD HTML 3.2 Final//EN\">\n",
      "<title>405 Method Not Allowed</title>\n",
      "<h1>Method Not Allowed</h1>\n",
      "<p>The method is not allowed for the requested URL.</p>\n",
      "\n"
     ]
    }
   ],
   "source": [
    "import requests\n",
    "play_load = {'key1':'value1','key2':'value2'}\n",
    "r = requests.post('http://www.httpbin.org/',data=play_load)\n",
    "print(r.text)"
   ]
  },
  {
   "cell_type": "markdown",
   "metadata": {},
   "source": [
    "## 示例：爬取百度图片上的某张图片，保持在本地"
   ]
  },
  {
   "cell_type": "code",
   "execution_count": 1,
   "metadata": {},
   "outputs": [
    {
     "ename": "SyntaxError",
     "evalue": "invalid character in identifier (<ipython-input-1-668ac99158b0>, line 31)",
     "output_type": "error",
     "traceback": [
      "\u001b[1;36m  File \u001b[1;32m\"<ipython-input-1-668ac99158b0>\"\u001b[1;36m, line \u001b[1;32m31\u001b[0m\n\u001b[1;33m    if dir_not_exists() == 'true'：\u001b[0m\n\u001b[1;37m                                 ^\u001b[0m\n\u001b[1;31mSyntaxError\u001b[0m\u001b[1;31m:\u001b[0m invalid character in identifier\n"
     ]
    }
   ],
   "source": [
    "import requests\n",
    "import os\n",
    "\n",
    "url = 'http://tupian.baike.com/ipad/a3_14_75_01300000164186121366756803686_jpg.html'\n",
    "root = 'D://python_test//'\n",
    "path = root + url.split('/')[-1]\n",
    "\n",
    "#判断目录是否存在\n",
    "def dir_not_exists():\n",
    "\tif not os.path.exsit(root):\n",
    "\t\treturn true\n",
    "\telse:\n",
    "\t\tprint('dir is exsit')\n",
    "\n",
    "#创建目录 \n",
    "def create_dir():\n",
    "\tos.mkdir(root)\n",
    "\n",
    "#获取图片二进制文件\n",
    "def get_pictures(url):\n",
    "\ttry:\n",
    "\t\tr = requets.get('http://tupian.baike.com/ipad/a3_14_75_01300000164186121366756803686_jpg.html')\n",
    "\t\tr.rasie_for_status()\n",
    "\t\tr.encoding = r.apparent.encoding\n",
    "\t\treturn r.context\n",
    "\texcept:\n",
    "\t\tprint('get get_picture failure')\n",
    "\n",
    "#保存图片\n",
    "def save_pictures():\n",
    "\tif dir_not_exists() == 'true'：\n",
    "\t\tcreate_dir()\n",
    "\telif: \n",
    "\t\tpicture_context = get_picture()\n",
    "\t\tpicture = open(path,'wb')\n",
    "\t\tpicture.wirte(picture_context)\n",
    "\t\tpicture.close()\n",
    "\t\tprint('succeed！！！！')\n",
    "\telse:\n",
    "\t\tprint('failed')\n",
    "\n",
    "if __name__ == '__main___':\n",
    "\t\tsave_pictures();\n",
    "\n"
   ]
  }
 ],
 "metadata": {
  "kernelspec": {
   "display_name": "Python 3",
   "language": "python",
   "name": "python3"
  },
  "language_info": {
   "codemirror_mode": {
    "name": "ipython",
    "version": 3
   },
   "file_extension": ".py",
   "mimetype": "text/x-python",
   "name": "python",
   "nbconvert_exporter": "python",
   "pygments_lexer": "ipython3",
   "version": "3.7.7"
  }
 },
 "nbformat": 4,
 "nbformat_minor": 4
}
